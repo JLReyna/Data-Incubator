{
 "cells": [
  {
   "cell_type": "code",
   "execution_count": 2,
   "metadata": {
    "collapsed": false,
    "deletable": true,
    "editable": true
   },
   "outputs": [],
   "source": [
    "import pandas as pd\n",
    "import matplotlib.pyplot as plt"
   ]
  },
  {
   "cell_type": "code",
   "execution_count": 3,
   "metadata": {
    "collapsed": false,
    "deletable": true,
    "editable": true
   },
   "outputs": [],
   "source": [
    "CBSAair = pd.read_csv(\"annual_aqi_by_cbsa_2017.csv\")\n",
    "TXair=CBSAair[CBSAair[\"CBSA\"].str.contains(\", TX\")]\n",
    "TXair = TXair.set_index('CBSA')\n"
   ]
  },
  {
   "cell_type": "code",
   "execution_count": 15,
   "metadata": {
    "collapsed": false,
    "deletable": true,
    "editable": true
   },
   "outputs": [],
   "source": [
    "TXarea = pd.read_excel(\"land.xlsx\")\n",
    "TXarea = TXarea.set_index(\"CBSA\")"
   ]
  },
  {
   "cell_type": "code",
   "execution_count": 19,
   "metadata": {
    "collapsed": false,
    "deletable": true,
    "editable": true
   },
   "outputs": [],
   "source": [
    "TXrace = pd.read_csv(\"race.csv\")\n",
    "TXrace = TXrace.iloc[:,2:6]\n",
    "TXrace = TXrace.drop([0,1],axis=0)\n",
    "TXrace = TXrace.drop([\"HD02_VD01\"], axis =1)\n",
    "TXrace.columns = [\"Geography\", \"Population\", \"White\"]\n",
    "TXrace[\"Geography\"] = TXrace[\"Geography\"].str.split(' ').str[0:-3].str.join(' ')\n",
    "TXrace = TXrace.set_index('Geography')\n",
    "TXdemo = TXarea.join(TXrace)\n",
    "TXdemo = TXdemo.astype('int64')\n",
    "TXdemo[\"Density\"] = TXdemo[\"Population\"]/TXdemo[\"Area\"]"
   ]
  },
  {
   "cell_type": "code",
   "execution_count": 25,
   "metadata": {
    "collapsed": false
   },
   "outputs": [],
   "source": [
    "TX = TXdemo.join(TXair)"
   ]
  },
  {
   "cell_type": "code",
   "execution_count": 26,
   "metadata": {
    "collapsed": false,
    "deletable": true,
    "editable": true
   },
   "outputs": [
    {
     "data": {
      "image/png": "[encoded data removed]",
      "text/plain": [
       "<matplotlib.figure.Figure at 0x107112ad0>"
      ]
     },
     "metadata": {},
     "output_type": "display_data"
    }
   ],
   "source": [
    "TX.plot(x = \"Density\", y = \"Max AQI\", kind = 'scatter')#plt.ylabel('some numbers')\n",
    "plt.show()"
   ]
  },
  {
   "cell_type": "code",
   "execution_count": 30,
   "metadata": {
    "collapsed": false,
    "deletable": true,
    "editable": true
   },
   "outputs": [
    {
     "data": {
      "text/plain": [
       "0.57799615882837174"
      ]
     },
     "execution_count": 30,
     "metadata": {},
     "output_type": "execute_result"
    }
   ],
   "source": [
    "TX.corr()[\"Density\"][\"Max AQI\"]"
   ]
  },
  {
   "cell_type": "code",
   "execution_count": null,
   "metadata": {
    "collapsed": true,
    "deletable": true,
    "editable": true
   },
   "outputs": [],
   "source": []
  }
 ],
 "metadata": {
  "kernelspec": {
   "display_name": "Python 2",
   "language": "python",
   "name": "python2"
  },
  "language_info": {
   "codemirror_mode": {
    "name": "ipython",
    "version": 2
   },
   "file_extension": ".py",
   "mimetype": "text/x-python",
   "name": "python",
   "nbconvert_exporter": "python",
   "pygments_lexer": "ipython2",
   "version": "2.7.13"
  }
 },
 "nbformat": 4,
 "nbformat_minor": 2
}
