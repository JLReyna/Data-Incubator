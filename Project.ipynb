{
 "cells": [
  {
   "cell_type": "code",
   "execution_count": 142,
   "metadata": {
    "collapsed": false
   },
   "outputs": [],
   "source": [
    "import pandas as pd\n",
    "import matplotlib.pyplot as plt"
   ]
  },
  {
   "cell_type": "code",
   "execution_count": 113,
   "metadata": {
    "collapsed": false
   },
   "outputs": [],
   "source": [
    "CBSAair = pd.read_csv(\"annual_aqi_by_cbsa_2017.csv\")\n",
    "TXair=CBSAair[CBSAair[\"CBSA\"].str.contains(\", TX\")]\n",
    "TXair = TXair.set_index('CBSA')\n"
   ]
  },
  {
   "cell_type": "code",
   "execution_count": 191,
   "metadata": {
    "collapsed": false
   },
   "outputs": [],
   "source": [
    "TXincome = pd.read_csv(\"income.csv\")\n",
    "TXincome = TXincome.drop([\"GEO.id\",\"GEO.id2\",\"HD02_VD01\"],axis=1)\n",
    "TXincome = TXincome.drop([0,1],axis=0)\n",
    "TXincome.columns = [\"Geography\", \"Income\"]\n",
    "TXincome[\"Geography\"] = TXincome[\"Geography\"].str.split(' ').str[0:-3].str.join(' ')"
   ]
  },
  {
   "cell_type": "code",
   "execution_count": 192,
   "metadata": {
    "collapsed": false
   },
   "outputs": [],
   "source": [
    "TXrace = pd.read_csv(\"race.csv\")\n",
    "TXrace = TXrace.iloc[:,2:6]\n",
    "TXrace = TXrace.drop([0,1],axis=0)\n",
    "TXrace = TXrace.drop([\"HD02_VD01\"], axis =1)\n",
    "TXrace.columns = [\"Geography\", \"Population\", \"White\"]\n",
    "TXrace[\"Geography\"] = TXrace[\"Geography\"].str.split(' ').str[0:-3].str.join(' ')\n",
    "TXrace = TXrace.set_index('Geography')\n",
    "TXincome = TXincome.set_index('Geography')\n",
    "TXdemo = TXrace.join(TXincome)\n",
    "TXdemo = TXdemo.astype('int64')\n",
    "TXdemo[\"Minority\"] = 1 - TXdemo[\"White\"]/TXdemo[\"Population\"]"
   ]
  },
  {
   "cell_type": "code",
   "execution_count": 194,
   "metadata": {
    "collapsed": false
   },
   "outputs": [],
   "source": [
    "TX = TXair.join(TXdemo)\n",
    "TX = TX.drop(\"Texarkana, TX-AR\")"
   ]
  },
  {
   "cell_type": "code",
   "execution_count": 196,
   "metadata": {
    "collapsed": false
   },
   "outputs": [
    {
     "data": {
      "image/png": "[encoded data removed]",
      "text/plain": [
       "<matplotlib.figure.Figure at 0x10c19b590>"
      ]
     },
     "metadata": {},
     "output_type": "display_data"
    }
   ],
   "source": [
    "#pd.concat([TX[\"Median AQI\"], TX[\"Income\"]],axis = 1).plot()\n",
    "TX.plot(x = \"Income\", y = \"Max AQI\", kind = 'scatter')#plt.ylabel('some numbers')\n",
    "plt.show()"
   ]
  },
  {
   "cell_type": "code",
   "execution_count": 203,
   "metadata": {
    "collapsed": false
   },
   "outputs": [
    {
     "data": {
      "text/plain": [
       "0.43187184573825665"
      ]
     },
     "execution_count": 203,
     "metadata": {},
     "output_type": "execute_result"
    }
   ],
   "source": [
    "TX.corr()[\"Income\"][\"Max AQI\"]"
   ]
  },
  {
   "cell_type": "code",
   "execution_count": null,
   "metadata": {
    "collapsed": true
   },
   "outputs": [],
   "source": []
  }
 ],
 "metadata": {
  "kernelspec": {
   "display_name": "Python 2",
   "language": "python",
   "name": "python2"
  },
  "language_info": {
   "codemirror_mode": {
    "name": "ipython",
    "version": 2
   },
   "file_extension": ".py",
   "mimetype": "text/x-python",
   "name": "python",
   "nbconvert_exporter": "python",
   "pygments_lexer": "ipython2",
   "version": "2.7.13"
  }
 },
 "nbformat": 4,
 "nbformat_minor": 2
}
